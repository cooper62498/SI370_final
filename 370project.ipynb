{
  "nbformat": 4,
  "nbformat_minor": 0,
  "metadata": {
    "colab": {
      "name": "370project.ipynb",
      "provenance": [],
      "collapsed_sections": [],
      "machine_shape": "hm",
      "include_colab_link": true
    },
    "kernelspec": {
      "name": "python3",
      "display_name": "Python 3"
    },
    "accelerator": "GPU"
  },
  "cells": [
    {
      "cell_type": "markdown",
      "metadata": {
        "id": "view-in-github",
        "colab_type": "text"
      },
      "source": [
        "<a href=\"https://colab.research.google.com/github/cooper62498/SI370_final/blob/master/370project.ipynb\" target=\"_parent\"><img src=\"https://colab.research.google.com/assets/colab-badge.svg\" alt=\"Open In Colab\"/></a>"
      ]
    },
    {
      "cell_type": "markdown",
      "metadata": {
        "id": "GtB_1sOzmwNl",
        "colab_type": "text"
      },
      "source": [
        "\n",
        "# [Kaggle Walmart Recruiting](https://www.kaggle.com/c/walmart-recruiting-trip-type-classification)"
      ]
    },
    {
      "cell_type": "code",
      "metadata": {
        "id": "e8r8Sk4vlI-v",
        "colab_type": "code",
        "outputId": "1ed7ac1e-28fc-4054-c438-29dc9edab093",
        "colab": {
          "base_uri": "https://localhost:8080/",
          "height": 34
        }
      },
      "source": [
        "# https://stackoverflow.com/questions/46986398/import-data-into-google-colaboratory\n",
        "from google.colab import drive\n",
        "drive.mount(\"/content/drive\")#, force_remount=True)"
      ],
      "execution_count": 0,
      "outputs": [
        {
          "output_type": "stream",
          "text": [
            "Drive already mounted at /content/drive; to attempt to forcibly remount, call drive.mount(\"/content/drive\", force_remount=True).\n"
          ],
          "name": "stdout"
        }
      ]
    },
    {
      "cell_type": "code",
      "metadata": {
        "id": "9oo2ooAe1gSm",
        "colab_type": "code",
        "colab": {}
      },
      "source": [
        "import pandas as pd"
      ],
      "execution_count": 0,
      "outputs": []
    },
    {
      "cell_type": "code",
      "metadata": {
        "id": "oK_7iCxA9g0S",
        "colab_type": "code",
        "colab": {}
      },
      "source": [
        "train_df = pd.read_csv(\"/content/drive/Shared drives/370/data/train.csv\")"
      ],
      "execution_count": 0,
      "outputs": []
    },
    {
      "cell_type": "code",
      "metadata": {
        "id": "YrSDtq459lpO",
        "colab_type": "code",
        "colab": {}
      },
      "source": [
        "test_df = pd.read_csv(\"/content/drive/Shared drives/370/data/test.csv\")"
      ],
      "execution_count": 0,
      "outputs": []
    },
    {
      "cell_type": "code",
      "metadata": {
        "id": "V2bwEAPimNN0",
        "colab_type": "code",
        "outputId": "0bf34ade-6e17-41be-a407-a3873639a75b",
        "colab": {
          "base_uri": "https://localhost:8080/",
          "height": 390
        }
      },
      "source": [
        "train_df.describe(include=\"all\")"
      ],
      "execution_count": 0,
      "outputs": [
        {
          "output_type": "execute_result",
          "data": {
            "text/html": [
              "<div>\n",
              "<style scoped>\n",
              "    .dataframe tbody tr th:only-of-type {\n",
              "        vertical-align: middle;\n",
              "    }\n",
              "\n",
              "    .dataframe tbody tr th {\n",
              "        vertical-align: top;\n",
              "    }\n",
              "\n",
              "    .dataframe thead th {\n",
              "        text-align: right;\n",
              "    }\n",
              "</style>\n",
              "<table border=\"1\" class=\"dataframe\">\n",
              "  <thead>\n",
              "    <tr style=\"text-align: right;\">\n",
              "      <th></th>\n",
              "      <th>TripType</th>\n",
              "      <th>VisitNumber</th>\n",
              "      <th>Weekday</th>\n",
              "      <th>Upc</th>\n",
              "      <th>ScanCount</th>\n",
              "      <th>DepartmentDescription</th>\n",
              "      <th>FinelineNumber</th>\n",
              "    </tr>\n",
              "  </thead>\n",
              "  <tbody>\n",
              "    <tr>\n",
              "      <th>count</th>\n",
              "      <td>647054.000000</td>\n",
              "      <td>647054.000000</td>\n",
              "      <td>647054</td>\n",
              "      <td>6.429250e+05</td>\n",
              "      <td>647054.000000</td>\n",
              "      <td>645693</td>\n",
              "      <td>642925.000000</td>\n",
              "    </tr>\n",
              "    <tr>\n",
              "      <th>unique</th>\n",
              "      <td>NaN</td>\n",
              "      <td>NaN</td>\n",
              "      <td>7</td>\n",
              "      <td>NaN</td>\n",
              "      <td>NaN</td>\n",
              "      <td>68</td>\n",
              "      <td>NaN</td>\n",
              "    </tr>\n",
              "    <tr>\n",
              "      <th>top</th>\n",
              "      <td>NaN</td>\n",
              "      <td>NaN</td>\n",
              "      <td>Sunday</td>\n",
              "      <td>NaN</td>\n",
              "      <td>NaN</td>\n",
              "      <td>GROCERY DRY GOODS</td>\n",
              "      <td>NaN</td>\n",
              "    </tr>\n",
              "    <tr>\n",
              "      <th>freq</th>\n",
              "      <td>NaN</td>\n",
              "      <td>NaN</td>\n",
              "      <td>133975</td>\n",
              "      <td>NaN</td>\n",
              "      <td>NaN</td>\n",
              "      <td>70402</td>\n",
              "      <td>NaN</td>\n",
              "    </tr>\n",
              "    <tr>\n",
              "      <th>mean</th>\n",
              "      <td>58.584511</td>\n",
              "      <td>96167.640078</td>\n",
              "      <td>NaN</td>\n",
              "      <td>3.060698e+10</td>\n",
              "      <td>1.108878</td>\n",
              "      <td>NaN</td>\n",
              "      <td>3726.884567</td>\n",
              "    </tr>\n",
              "    <tr>\n",
              "      <th>std</th>\n",
              "      <td>157.635533</td>\n",
              "      <td>55545.485154</td>\n",
              "      <td>NaN</td>\n",
              "      <td>9.120134e+10</td>\n",
              "      <td>0.700776</td>\n",
              "      <td>NaN</td>\n",
              "      <td>2780.966158</td>\n",
              "    </tr>\n",
              "    <tr>\n",
              "      <th>min</th>\n",
              "      <td>3.000000</td>\n",
              "      <td>5.000000</td>\n",
              "      <td>NaN</td>\n",
              "      <td>8.340000e+02</td>\n",
              "      <td>-12.000000</td>\n",
              "      <td>NaN</td>\n",
              "      <td>0.000000</td>\n",
              "    </tr>\n",
              "    <tr>\n",
              "      <th>25%</th>\n",
              "      <td>27.000000</td>\n",
              "      <td>49268.000000</td>\n",
              "      <td>NaN</td>\n",
              "      <td>3.400001e+09</td>\n",
              "      <td>1.000000</td>\n",
              "      <td>NaN</td>\n",
              "      <td>1404.000000</td>\n",
              "    </tr>\n",
              "    <tr>\n",
              "      <th>50%</th>\n",
              "      <td>39.000000</td>\n",
              "      <td>97074.000000</td>\n",
              "      <td>NaN</td>\n",
              "      <td>7.050103e+09</td>\n",
              "      <td>1.000000</td>\n",
              "      <td>NaN</td>\n",
              "      <td>3352.000000</td>\n",
              "    </tr>\n",
              "    <tr>\n",
              "      <th>75%</th>\n",
              "      <td>40.000000</td>\n",
              "      <td>144316.000000</td>\n",
              "      <td>NaN</td>\n",
              "      <td>3.006531e+10</td>\n",
              "      <td>1.000000</td>\n",
              "      <td>NaN</td>\n",
              "      <td>5501.000000</td>\n",
              "    </tr>\n",
              "    <tr>\n",
              "      <th>max</th>\n",
              "      <td>999.000000</td>\n",
              "      <td>191347.000000</td>\n",
              "      <td>NaN</td>\n",
              "      <td>9.789707e+11</td>\n",
              "      <td>71.000000</td>\n",
              "      <td>NaN</td>\n",
              "      <td>9998.000000</td>\n",
              "    </tr>\n",
              "  </tbody>\n",
              "</table>\n",
              "</div>"
            ],
            "text/plain": [
              "             TripType    VisitNumber  ... DepartmentDescription  FinelineNumber\n",
              "count   647054.000000  647054.000000  ...                645693   642925.000000\n",
              "unique            NaN            NaN  ...                    68             NaN\n",
              "top               NaN            NaN  ...     GROCERY DRY GOODS             NaN\n",
              "freq              NaN            NaN  ...                 70402             NaN\n",
              "mean        58.584511   96167.640078  ...                   NaN     3726.884567\n",
              "std        157.635533   55545.485154  ...                   NaN     2780.966158\n",
              "min          3.000000       5.000000  ...                   NaN        0.000000\n",
              "25%         27.000000   49268.000000  ...                   NaN     1404.000000\n",
              "50%         39.000000   97074.000000  ...                   NaN     3352.000000\n",
              "75%         40.000000  144316.000000  ...                   NaN     5501.000000\n",
              "max        999.000000  191347.000000  ...                   NaN     9998.000000\n",
              "\n",
              "[11 rows x 7 columns]"
            ]
          },
          "metadata": {
            "tags": []
          },
          "execution_count": 5
        }
      ]
    },
    {
      "cell_type": "code",
      "metadata": {
        "id": "TerjUiHFrJn5",
        "colab_type": "code",
        "outputId": "60649b74-219a-4b4a-929b-91e282423ad6",
        "colab": {
          "base_uri": "https://localhost:8080/",
          "height": 34
        }
      },
      "source": [
        "from google.colab import drive\n",
        "drive.mount('/content/drive')"
      ],
      "execution_count": 0,
      "outputs": [
        {
          "output_type": "stream",
          "text": [
            "Drive already mounted at /content/drive; to attempt to forcibly remount, call drive.mount(\"/content/drive\", force_remount=True).\n"
          ],
          "name": "stdout"
        }
      ]
    },
    {
      "cell_type": "code",
      "metadata": {
        "id": "I_L84KdGmOid",
        "colab_type": "code",
        "outputId": "8dca1d45-9cb7-4a4b-a0ec-bf147bed3cb7",
        "colab": {
          "base_uri": "https://localhost:8080/",
          "height": 34
        }
      },
      "source": [
        "train_df.shape"
      ],
      "execution_count": 0,
      "outputs": [
        {
          "output_type": "execute_result",
          "data": {
            "text/plain": [
              "(647054, 7)"
            ]
          },
          "metadata": {
            "tags": []
          },
          "execution_count": 7
        }
      ]
    },
    {
      "cell_type": "code",
      "metadata": {
        "id": "EUSlBE9on1Q3",
        "colab_type": "code",
        "outputId": "84a84da2-5cbd-4ef9-e689-f22b6e47411e",
        "colab": {
          "base_uri": "https://localhost:8080/",
          "height": 136
        }
      },
      "source": [
        "for col in train_df.columns:\n",
        "    print(f\"{col:20}: {train_df[col].isnull().sum()}\")"
      ],
      "execution_count": 0,
      "outputs": [
        {
          "output_type": "stream",
          "text": [
            "TripType            : 0\n",
            "VisitNumber         : 0\n",
            "Weekday             : 0\n",
            "Upc                 : 4129\n",
            "ScanCount           : 0\n",
            "DepartmentDescription: 1361\n",
            "FinelineNumber      : 4129\n"
          ],
          "name": "stdout"
        }
      ]
    },
    {
      "cell_type": "code",
      "metadata": {
        "id": "cUPxp-8jpPPP",
        "colab_type": "code",
        "outputId": "bbabf53c-d17f-43a8-bd81-a40f09a49cd2",
        "colab": {
          "base_uri": "https://localhost:8080/",
          "height": 119
        }
      },
      "source": [
        "for col in test_df.columns:\n",
        "    print(f\"{col:20}: {train_df[col].isnull().sum()}\")"
      ],
      "execution_count": 0,
      "outputs": [
        {
          "output_type": "stream",
          "text": [
            "VisitNumber         : 0\n",
            "Weekday             : 0\n",
            "Upc                 : 4129\n",
            "ScanCount           : 0\n",
            "DepartmentDescription: 1361\n",
            "FinelineNumber      : 4129\n"
          ],
          "name": "stdout"
        }
      ]
    },
    {
      "cell_type": "code",
      "metadata": {
        "id": "mo0S2zJqoKZH",
        "colab_type": "code",
        "colab": {}
      },
      "source": [
        "train_df = train_df.dropna()"
      ],
      "execution_count": 0,
      "outputs": []
    },
    {
      "cell_type": "code",
      "metadata": {
        "id": "ANzn6vKnowdQ",
        "colab_type": "code",
        "outputId": "d178b3b2-8488-4318-e768-c02e88b056d1",
        "colab": {
          "base_uri": "https://localhost:8080/",
          "height": 136
        }
      },
      "source": [
        "for col in train_df.columns:\n",
        "    print(f\"{col:20}: {train_df[col].isnull().sum()}\")"
      ],
      "execution_count": 0,
      "outputs": [
        {
          "output_type": "stream",
          "text": [
            "TripType            : 0\n",
            "VisitNumber         : 0\n",
            "Weekday             : 0\n",
            "Upc                 : 0\n",
            "ScanCount           : 0\n",
            "DepartmentDescription: 0\n",
            "FinelineNumber      : 0\n"
          ],
          "name": "stdout"
        }
      ]
    },
    {
      "cell_type": "code",
      "metadata": {
        "id": "6YTJSaMboxuu",
        "colab_type": "code",
        "colab": {}
      },
      "source": [
        "from sklearn.cluster import KMeans"
      ],
      "execution_count": 0,
      "outputs": []
    },
    {
      "cell_type": "code",
      "metadata": {
        "id": "Rw7sDxjvpDJa",
        "colab_type": "code",
        "colab": {}
      },
      "source": [
        "seed = 42"
      ],
      "execution_count": 0,
      "outputs": []
    },
    {
      "cell_type": "code",
      "metadata": {
        "id": "65Wqj6u2pBHt",
        "colab_type": "code",
        "colab": {}
      },
      "source": [
        "km = KMeans(random_state=seed)"
      ],
      "execution_count": 0,
      "outputs": []
    },
    {
      "cell_type": "code",
      "metadata": {
        "id": "PDfh_G-wpFV8",
        "colab_type": "code",
        "outputId": "968145f4-92ef-46aa-8eb7-908163703629",
        "colab": {
          "base_uri": "https://localhost:8080/",
          "height": 68
        }
      },
      "source": [
        "km"
      ],
      "execution_count": 0,
      "outputs": [
        {
          "output_type": "execute_result",
          "data": {
            "text/plain": [
              "KMeans(algorithm='auto', copy_x=True, init='k-means++', max_iter=300,\n",
              "       n_clusters=8, n_init=10, n_jobs=None, precompute_distances='auto',\n",
              "       random_state=42, tol=0.0001, verbose=0)"
            ]
          },
          "metadata": {
            "tags": []
          },
          "execution_count": 15
        }
      ]
    },
    {
      "cell_type": "code",
      "metadata": {
        "id": "gWxBXL7Lp6i5",
        "colab_type": "code",
        "colab": {}
      },
      "source": [
        "train_df_dummies = pd.get_dummies(train_df)"
      ],
      "execution_count": 0,
      "outputs": []
    },
    {
      "cell_type": "code",
      "metadata": {
        "id": "Pz1oXruzp0QP",
        "colab_type": "code",
        "outputId": "b04de028-3b4f-4681-9bd6-48664cc644ae",
        "colab": {
          "base_uri": "https://localhost:8080/",
          "height": 68
        }
      },
      "source": [
        "km.fit(train_df_dummies)"
      ],
      "execution_count": 0,
      "outputs": [
        {
          "output_type": "execute_result",
          "data": {
            "text/plain": [
              "KMeans(algorithm='auto', copy_x=True, init='k-means++', max_iter=300,\n",
              "       n_clusters=8, n_init=10, n_jobs=None, precompute_distances='auto',\n",
              "       random_state=42, tol=0.0001, verbose=0)"
            ]
          },
          "metadata": {
            "tags": []
          },
          "execution_count": 17
        }
      ]
    },
    {
      "cell_type": "code",
      "metadata": {
        "id": "U6bnWEzOsFhP",
        "colab_type": "code",
        "colab": {}
      },
      "source": [
        "from sklearn import metrics"
      ],
      "execution_count": 0,
      "outputs": []
    },
    {
      "cell_type": "code",
      "metadata": {
        "id": "IBa5bzGBqfP6",
        "colab_type": "code",
        "colab": {}
      },
      "source": [
        "cluster_dict = {}\n",
        "for k in range(2,50):\n",
        "    kmeans = KMeans(n_clusters=k)\n",
        "    kmeans.fit(train_df_dummies)\n",
        "    silhouette_score = metrics.silhouette_score(train_df_dummies,kmeans.labels_)\n",
        "    print(f\"K = {k}: {silhouette_score}\")\n",
        "    cluster_dict[k] = silhouette_score"
      ],
      "execution_count": 0,
      "outputs": []
    },
    {
      "cell_type": "code",
      "metadata": {
        "id": "TE0GlLeWqxWX",
        "colab_type": "code",
        "colab": {}
      },
      "source": [
        ""
      ],
      "execution_count": 0,
      "outputs": []
    }
  ]
}